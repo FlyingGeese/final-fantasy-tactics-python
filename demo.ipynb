{
 "cells": [
  {
   "cell_type": "code",
   "execution_count": 4,
   "metadata": {},
   "outputs": [
    {
     "name": "stdout",
     "output_type": "stream",
     "text": [
      "modules imported successfully\n",
      "23\n"
     ]
    },
    {
     "ename": "NameError",
     "evalue": "name 'Unit' is not defined",
     "output_type": "error",
     "traceback": [
      "\u001b[1;31m---------------------------------------------------------------------------\u001b[0m",
      "\u001b[1;31mNameError\u001b[0m                                 Traceback (most recent call last)",
      "\u001b[1;32m<ipython-input-4-f03be5f96bf8>\u001b[0m in \u001b[0;36m<module>\u001b[1;34m()\u001b[0m\n\u001b[0;32m      8\u001b[0m \u001b[0mprint\u001b[0m\u001b[1;33m(\u001b[0m\u001b[1;34m'modules imported successfully'\u001b[0m\u001b[1;33m)\u001b[0m\u001b[1;33m\u001b[0m\u001b[0m\n\u001b[0;32m      9\u001b[0m \u001b[0mprint\u001b[0m\u001b[1;33m(\u001b[0m\u001b[0mlen\u001b[0m\u001b[1;33m(\u001b[0m\u001b[0mPEOPLE\u001b[0m\u001b[1;33m)\u001b[0m\u001b[1;33m)\u001b[0m\u001b[1;33m\u001b[0m\u001b[0m\n\u001b[1;32m---> 10\u001b[1;33m \u001b[0mgenerate_characters\u001b[0m\u001b[1;33m(\u001b[0m\u001b[0mPEOPLE\u001b[0m\u001b[1;33m)\u001b[0m\u001b[1;33m\u001b[0m\u001b[0m\n\u001b[0m",
      "\u001b[1;32m~\\Projects\\fft\\generators\\characters.py\u001b[0m in \u001b[0;36mgenerate_characters\u001b[1;34m(people)\u001b[0m\n\u001b[0;32m     28\u001b[0m     \u001b[0mgood_guys\u001b[0m \u001b[1;33m=\u001b[0m \u001b[0mlen\u001b[0m\u001b[1;33m(\u001b[0m\u001b[0mpeople\u001b[0m\u001b[1;33m)\u001b[0m \u001b[1;33m/\u001b[0m \u001b[1;36m4\u001b[0m\u001b[1;33m\u001b[0m\u001b[0m\n\u001b[0;32m     29\u001b[0m     \u001b[1;32mfor\u001b[0m \u001b[0mperson\u001b[0m \u001b[1;32min\u001b[0m \u001b[0mpeople\u001b[0m\u001b[1;33m:\u001b[0m\u001b[1;33m\u001b[0m\u001b[0m\n\u001b[1;32m---> 30\u001b[1;33m         \u001b[0mUnit\u001b[0m\u001b[1;33m(\u001b[0m\u001b[0mperson\u001b[0m\u001b[1;33m[\u001b[0m\u001b[1;34m'name'\u001b[0m\u001b[1;33m]\u001b[0m\u001b[1;33m,\u001b[0m \u001b[0mgender\u001b[0m\u001b[1;33m=\u001b[0m\u001b[0mperson\u001b[0m\u001b[1;33m[\u001b[0m\u001b[1;34m'gender'\u001b[0m\u001b[1;33m]\u001b[0m\u001b[1;33m)\u001b[0m\u001b[1;33m\u001b[0m\u001b[0m\n\u001b[0m\u001b[0;32m     31\u001b[0m         \u001b[0mgood_guys\u001b[0m \u001b[1;33m+=\u001b[0m \u001b[1;36m1\u001b[0m\u001b[1;33m\u001b[0m\u001b[0m\n\u001b[0;32m     32\u001b[0m         \u001b[1;32mif\u001b[0m \u001b[0mgood_guys\u001b[0m \u001b[1;33m>\u001b[0m \u001b[1;36m4\u001b[0m\u001b[1;33m:\u001b[0m\u001b[1;33m\u001b[0m\u001b[0m\n",
      "\u001b[1;31mNameError\u001b[0m: name 'Unit' is not defined"
     ]
    }
   ],
   "source": [
    "from utilities import abilities as abl\n",
    "from utilities import equipment as eqt\n",
    "from utilities import jobs\n",
    "from stages import buildStage as build\n",
    "from generators.characters import generate_characters, PEOPLE\n",
    "from random import randint\n",
    "\n",
    "print('modules imported successfully')\n",
    "print(len(PEOPLE))\n",
    "generate_characters(PEOPLE)"
   ]
  },
  {
   "cell_type": "code",
   "execution_count": 2,
   "metadata": {},
   "outputs": [],
   "source": [
    "ALLIES = []\n",
    "FOES = []\n",
    "\n",
    "class Unit():\n",
    "    '''Character objects.'''\n",
    "    def __init__(self, name, **kwargs):\n",
    "        self.name = name\n",
    "        self.gender = kwargs.get('gender', 'M')\n",
    "        self.maxhp = 100\n",
    "        self.hp = 100\n",
    "        self.maxmp = 50\n",
    "        self.mp = 50\n",
    "        self.strength = 30\n",
    "        self.status = 'alive'\n",
    "        self.job = 'Squire'\n",
    "        self.main_skills = 'Fundaments'\n",
    "        self.speed = 10\n",
    "        self.defenseless = False\n",
    "        self.abilities = []\n",
    "        self.equipment = {\n",
    "            'left': None,\n",
    "            'right': None,\n",
    "            'helm': None,\n",
    "            'armor': None,\n",
    "            'shoes': None\n",
    "        }\n",
    "        self.level = 1\n",
    "        self.exp = 0\n",
    "        self.jp = {}\n",
    "        self.ct = 5\n",
    "        self.move_range = 4\n",
    "        self.jump = 3\n",
    "        self.bravery = randint(60, 95)\n",
    "        self.faith = randint(60, 95)\n",
    "        self.position = {\n",
    "            'last_pos': None,\n",
    "            'current_pos': None\n",
    "        }\n",
    "        self.jp['Squire'] = 0\n",
    "\n",
    "    def __str__(self):\n",
    "        return f'{self.name} >> {self.job} ({self.hp})HP'\n",
    "\n",
    "    def change_job(self, new_job):\n",
    "        old_job = str(self.job)\n",
    "        self.job = new_job.name\n",
    "        self.main_skills = new_job.discipline\n",
    "        # check if key is in units Job points dict\n",
    "        if self.job not in self.jp.keys():\n",
    "            self.jp[self.job] = 0\n",
    "        # map_stats()\n",
    "        self.maxhp = new_job.maxhp\n",
    "        self.maxmp = new_job.maxmp\n",
    "        print(f'{self.name} changed jobs: {old_job} ---> {self.job}')\n",
    "\n",
    "    def map_stats(self, job):\n",
    "        # map the stats of the job to the unit\n",
    "        pass\n",
    "\n",
    "    def attack(self, tile):\n",
    "        if not bool(tile.unit):\n",
    "            return print(\"Missed!\")\n",
    "\n",
    "        target = tile.unit[0]\n",
    "        dmg = self.strength\n",
    "        target.hp = target.hp - dmg\n",
    "        print(f'{self.name} attacked {target.name}!')\n",
    "        reward_units(self, target)\n",
    "        # print(f'{target.name} lost {dmg} HP')\n",
    "        if target.hp < (target.maxhp / 2) and target.hp > 0:\n",
    "            target.status = 'critical'\n",
    "            print(f'{target.name} is in critical condition!')\n",
    "        elif target.hp <= 0:\n",
    "            target.status = 'felled'\n",
    "            print(f'{target.name} has fallen!')\n",
    "\n",
    "    def report(self):\n",
    "        print('----------------------------------------------------------')\n",
    "        print('NAME   | LEVEL | EXP | JOB  | HP  | MP  | SKILL')\n",
    "        print('----------------------------------------------------------')\n",
    "        print(f'[{self.name}] | {self.level} | {self.exp} | {self.job} | {self.maxhp} | {self.maxmp} | {self.main_skills} |')\n",
    "        print('----------------------------------------------------------')\n",
    "\n",
    "\n",
    "    def move(self, tile):\n",
    "        tile_id = tile.tile_id\n",
    "        path = []\n",
    "        go_around = 0\n",
    "        if tile.traversable == False or len(tile.unit) == 1:\n",
    "            return print('Please select a tile within movement range.')\n",
    "\n",
    "        coords = self.position['current_pos']\n",
    "        # check x path 1\n",
    "\n",
    "        if coords[0] is tile_id[0]:\n",
    "            print('Not moving left or right')\n",
    "            x_distance = 0\n",
    "        else:\n",
    "            x_distance = ord(coords[0]) - ord(tile_id[0])\n",
    "            print('x dist is', x_distance)\n",
    "            if x_distance > 0:\n",
    "                x_dir = 'left'\n",
    "                print('Moving left')\n",
    "            else:\n",
    "                x_dir = 'right'\n",
    "                print('Moving right')\n",
    "            # x_dir = 'left' if x_distance < 0 else 'right'\n",
    "\n",
    "            # FIRST CHECK Hdiffs on the destination tile\n",
    "            # check each tile within this range\n",
    "            # if x_distance is pos check if tiles to the right have a Left Hdiff\n",
    "            # else (neg) check if tiles to the left have a Right Hdiff\n",
    "            # check jump height here\n",
    "                # if there is a\n",
    "\n",
    "        if coords[1] is tile_id[1]:\n",
    "            print('not moving up or down')\n",
    "            y_distance = 0\n",
    "        else:\n",
    "            y_distance = int(coords[1]) - int(tile_id[1])\n",
    "            # check for top and bottom borders\n",
    "\n",
    "        if y_distance > 0:\n",
    "            y_dir = 'north'\n",
    "            print('moving north')\n",
    "        else:\n",
    "            y_dir = 'south'\n",
    "            print('moving south')\n",
    "\n",
    "        if y_dir == 'north' and 'B' in tile.height_diff:\n",
    "            print('You can\\'t go that way')\n",
    "        elif y_dir == 'south' and 'T' in tile.height_diff:\n",
    "            print('You can\\'t go this way either')\n",
    "\n",
    "        distance = abs(x_distance) + abs(y_distance) # add go_around\n",
    "        print(f'{self.name} moving {distance} places')\n",
    "\n",
    "        if distance > self.move_range:\n",
    "            print('You can\\'t move that far')\n",
    "\n",
    "        tile.vacant = False\n",
    "        tile.unit.append(self)\n",
    "\n",
    "        # calculate distance\n",
    "        # if distance > self.move:\n",
    "            # ....\n",
    "        # update current position\n",
    "        self.position['current_pos'] = tile_id\n",
    "        print(self.position)\n",
    "\n",
    "\n",
    "def reward_units(unit1, unit2):\n",
    "    if unit1.level == unit2.level:\n",
    "        exp_reward = 1\n",
    "    else:\n",
    "        exp_reward = 10\n",
    "    unit1.exp += exp_reward\n",
    "    check_levels(unit1)\n",
    "\n",
    "def reward_jp(unit):\n",
    "    reward = 10\n",
    "    unit.jp[unit.job] += reward\n",
    "    print(f'+{reward}JP >> Total: {unit.jp[unit.job]}')\n",
    "\n",
    "\n",
    "def check_levels(unit):\n",
    "    if unit.exp > 2 and unit.exp < 5:\n",
    "        unit.level = 2\n",
    "        print(f'{unit.name} leveled up!')"
   ]
  },
  {
   "cell_type": "code",
   "execution_count": 3,
   "metadata": {},
   "outputs": [
    {
     "ename": "NameError",
     "evalue": "name 'randint' is not defined",
     "output_type": "error",
     "traceback": [
      "\u001b[1;31m---------------------------------------------------------------------------\u001b[0m",
      "\u001b[1;31mNameError\u001b[0m                                 Traceback (most recent call last)",
      "\u001b[1;32m<ipython-input-3-7acc47b19603>\u001b[0m in \u001b[0;36m<module>\u001b[1;34m()\u001b[0m\n\u001b[0;32m      1\u001b[0m \u001b[1;31m# Testing Unit class, equipment, abilities, and movement\u001b[0m\u001b[1;33m\u001b[0m\u001b[1;33m\u001b[0m\u001b[0m\n\u001b[1;32m----> 2\u001b[1;33m \u001b[0munit1\u001b[0m \u001b[1;33m=\u001b[0m \u001b[0mUnit\u001b[0m\u001b[1;33m(\u001b[0m\u001b[1;34m'Ramza'\u001b[0m\u001b[1;33m)\u001b[0m\u001b[1;33m\u001b[0m\u001b[0m\n\u001b[0m\u001b[0;32m      3\u001b[0m \u001b[0munit2\u001b[0m \u001b[1;33m=\u001b[0m \u001b[0mUnit\u001b[0m\u001b[1;33m(\u001b[0m\u001b[1;34m'Delita'\u001b[0m\u001b[1;33m)\u001b[0m\u001b[1;33m\u001b[0m\u001b[0m\n\u001b[0;32m      4\u001b[0m \u001b[0munit3\u001b[0m \u001b[1;33m=\u001b[0m \u001b[0mUnit\u001b[0m\u001b[1;33m(\u001b[0m\u001b[1;34m'Agrias'\u001b[0m\u001b[1;33m,\u001b[0m \u001b[0mgender\u001b[0m\u001b[1;33m=\u001b[0m\u001b[1;34m'F'\u001b[0m\u001b[1;33m)\u001b[0m\u001b[1;33m\u001b[0m\u001b[0m\n\u001b[0;32m      5\u001b[0m \u001b[0mALL_UNITS\u001b[0m \u001b[1;33m=\u001b[0m \u001b[1;33m[\u001b[0m\u001b[1;33m]\u001b[0m\u001b[1;33m\u001b[0m\u001b[0m\n",
      "\u001b[1;32m<ipython-input-2-4bf3029c6ce8>\u001b[0m in \u001b[0;36m__init__\u001b[1;34m(self, name, **kwargs)\u001b[0m\n\u001b[0;32m     31\u001b[0m         \u001b[0mself\u001b[0m\u001b[1;33m.\u001b[0m\u001b[0mmove_range\u001b[0m \u001b[1;33m=\u001b[0m \u001b[1;36m4\u001b[0m\u001b[1;33m\u001b[0m\u001b[0m\n\u001b[0;32m     32\u001b[0m         \u001b[0mself\u001b[0m\u001b[1;33m.\u001b[0m\u001b[0mjump\u001b[0m \u001b[1;33m=\u001b[0m \u001b[1;36m3\u001b[0m\u001b[1;33m\u001b[0m\u001b[0m\n\u001b[1;32m---> 33\u001b[1;33m         \u001b[0mself\u001b[0m\u001b[1;33m.\u001b[0m\u001b[0mbravery\u001b[0m \u001b[1;33m=\u001b[0m \u001b[0mrandint\u001b[0m\u001b[1;33m(\u001b[0m\u001b[1;36m60\u001b[0m\u001b[1;33m,\u001b[0m \u001b[1;36m95\u001b[0m\u001b[1;33m)\u001b[0m\u001b[1;33m\u001b[0m\u001b[0m\n\u001b[0m\u001b[0;32m     34\u001b[0m         \u001b[0mself\u001b[0m\u001b[1;33m.\u001b[0m\u001b[0mfaith\u001b[0m \u001b[1;33m=\u001b[0m \u001b[0mrandint\u001b[0m\u001b[1;33m(\u001b[0m\u001b[1;36m60\u001b[0m\u001b[1;33m,\u001b[0m \u001b[1;36m95\u001b[0m\u001b[1;33m)\u001b[0m\u001b[1;33m\u001b[0m\u001b[0m\n\u001b[0;32m     35\u001b[0m         self.position = {\n",
      "\u001b[1;31mNameError\u001b[0m: name 'randint' is not defined"
     ]
    }
   ],
   "source": [
    "# Testing Unit class, equipment, abilities, and movement\n",
    "unit1 = Unit('Ramza')\n",
    "unit2 = Unit('Delita')\n",
    "unit3 = Unit('Agrias', gender='F')\n",
    "ALL_UNITS = []\n",
    "ALL_UNITS.append(unit1)\n",
    "ALL_UNITS.append(unit3)\n",
    "ALL_UNITS.append(unit2)\n",
    "\n",
    "\n",
    "# eqt.ARMOR[2].equip_item(unit2)\n",
    "# print(unit2.hp)\n",
    "\n",
    "# abl.ABILITIES[0].learn_ability(unit1)\n",
    "# eqt.WEAPONS[0].equip_item(unit1)\n",
    "# reward_jp(unit1)\n",
    "# unit1.change_job(jobs.JOBS['Chemist'])\n",
    "print(unit1.report())\n",
    "# build.stage.units.append(unit1)\n",
    "unit1.position['current_pos'] = build.stage.tiles[17].tile_id\n",
    "print('current position is', unit1.position['current_pos'])\n",
    "unit1.attack(build.stage.tiles[16])\n",
    "print('Moving to', build.stage.tiles[18].tile_id)\n",
    "unit1.move(build.stage.tiles[18])\n",
    "# build.stage.tiles[1].info()\n",
    "# print(unit3.gender)\n",
    "# reward_jp(unit1)\n",
    "# unit1.change_job(jobs.JOBS['Squire'])\n",
    "# reward_jp(unit1)\n",
    "# reward_jp(unit1)\n",
    "# print(unit1.jp)\n",
    "# print(unit1.equipment)\n",
    "# print(eqt.ARMOR)\n",
    "# print(unit1.equipment['left'])"
   ]
  },
  {
   "cell_type": "code",
   "execution_count": 7,
   "metadata": {},
   "outputs": [
    {
     "data": {
      "text/plain": [
       "'Ramza'"
      ]
     },
     "execution_count": 7,
     "metadata": {},
     "output_type": "execute_result"
    }
   ],
   "source": [
    "unit1.name"
   ]
  },
  {
   "cell_type": "code",
   "execution_count": 6,
   "metadata": {},
   "outputs": [
    {
     "data": {
      "text/plain": [
       "{'A1': {'unit': [], 'height': 0, 'key': None}}"
      ]
     },
     "execution_count": 6,
     "metadata": {},
     "output_type": "execute_result"
    }
   ],
   "source": [
    "test_stage = {\n",
    "    'A1': {\n",
    "        'unit': [],\n",
    "        'height': 0,\n",
    "        'key': None\n",
    "    }\n",
    "}\n",
    "test_stage"
   ]
  },
  {
   "cell_type": "code",
   "execution_count": 25,
   "metadata": {},
   "outputs": [
    {
     "data": {
      "text/plain": [
       "False"
      ]
     },
     "execution_count": 25,
     "metadata": {},
     "output_type": "execute_result"
    }
   ],
   "source": [
    "# is this tile empty?\n",
    "# if the tile is empty, this will return False\n",
    "def empty_tile():\n",
    "    return bool(test_stage['A1']['unit'])\n",
    "empty_tile()"
   ]
  },
  {
   "cell_type": "code",
   "execution_count": 34,
   "metadata": {},
   "outputs": [
    {
     "data": {
      "text/plain": [
       "'Ramza >> Squire (100)HP'"
      ]
     },
     "execution_count": 34,
     "metadata": {},
     "output_type": "execute_result"
    }
   ],
   "source": [
    "Unit.__doc__\n",
    "Unit.__str__(unit1)"
   ]
  }
 ],
 "metadata": {
  "kernelspec": {
   "display_name": "Python 3",
   "language": "python",
   "name": "python3"
  }
 },
 "nbformat": 4,
 "nbformat_minor": 2
}
